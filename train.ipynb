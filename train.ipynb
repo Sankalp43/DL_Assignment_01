{
 "cells": [
  {
   "cell_type": "code",
   "execution_count": 16,
   "metadata": {},
   "outputs": [],
   "source": [
    "import numpy as np\n",
    "import pandas as pd\n",
    "import matplotlib.pyplot as plt\n",
    "from neural_network import NeuralNetwork"
   ]
  },
  {
   "cell_type": "code",
   "execution_count": 17,
   "metadata": {},
   "outputs": [],
   "source": [
    "import wandb\n",
    "\n",
    "\n",
    "run = wandb.init(\n",
    "      project=\"DA6401_assignment1\"\n",
    "      )"
   ]
  },
  {
   "cell_type": "code",
   "execution_count": null,
   "metadata": {},
   "outputs": [
    {
     "data": {
      "text/html": [
       "Tracking run with wandb version 0.19.8"
      ],
      "text/plain": [
       "<IPython.core.display.HTML object>"
      ]
     },
     "metadata": {},
     "output_type": "display_data"
    },
    {
     "data": {
      "text/html": [
       "Run data is saved locally in <code>c:\\Users\\sanka\\Desktop\\DL\\wandb\\run-20250308_140440-257rgr9i</code>"
      ],
      "text/plain": [
       "<IPython.core.display.HTML object>"
      ]
     },
     "metadata": {},
     "output_type": "display_data"
    },
    {
     "data": {
      "text/html": [
       "Syncing run <strong><a href='https://wandb.ai/da24s021-indian-institute-of-technology-madras/DA6401_assignment1/runs/257rgr9i' target=\"_blank\">good-fire-1</a></strong> to <a href='https://wandb.ai/da24s021-indian-institute-of-technology-madras/DA6401_assignment1' target=\"_blank\">Weights & Biases</a> (<a href='https://wandb.me/developer-guide' target=\"_blank\">docs</a>)<br>"
      ],
      "text/plain": [
       "<IPython.core.display.HTML object>"
      ]
     },
     "metadata": {},
     "output_type": "display_data"
    },
    {
     "data": {
      "text/html": [
       " View project at <a href='https://wandb.ai/da24s021-indian-institute-of-technology-madras/DA6401_assignment1' target=\"_blank\">https://wandb.ai/da24s021-indian-institute-of-technology-madras/DA6401_assignment1</a>"
      ],
      "text/plain": [
       "<IPython.core.display.HTML object>"
      ]
     },
     "metadata": {},
     "output_type": "display_data"
    },
    {
     "data": {
      "text/html": [
       " View run at <a href='https://wandb.ai/da24s021-indian-institute-of-technology-madras/DA6401_assignment1/runs/257rgr9i' target=\"_blank\">https://wandb.ai/da24s021-indian-institute-of-technology-madras/DA6401_assignment1/runs/257rgr9i</a>"
      ],
      "text/plain": [
       "<IPython.core.display.HTML object>"
      ]
     },
     "metadata": {},
     "output_type": "display_data"
    },
    {
     "data": {
      "text/html": [],
      "text/plain": [
       "<IPython.core.display.HTML object>"
      ]
     },
     "metadata": {},
     "output_type": "display_data"
    },
    {
     "data": {
      "text/html": [
       "<br>    <style><br>        .wandb-row {<br>            display: flex;<br>            flex-direction: row;<br>            flex-wrap: wrap;<br>            justify-content: flex-start;<br>            width: 100%;<br>        }<br>        .wandb-col {<br>            display: flex;<br>            flex-direction: column;<br>            flex-basis: 100%;<br>            flex: 1;<br>            padding: 10px;<br>        }<br>    </style><br><div class=\"wandb-row\"><div class=\"wandb-col\"><h3>Run history:</h3><br/><table class=\"wandb\"><tr><td>acc</td><td>▂▁▇▇▇▆▇█</td></tr><tr><td>loss</td><td>█▆▃▂▁▂▂▁</td></tr></table><br/></div><div class=\"wandb-col\"><h3>Run summary:</h3><br/><table class=\"wandb\"><tr><td>acc</td><td>0.81571</td></tr><tr><td>loss</td><td>0.22152</td></tr></table><br/></div></div>"
      ],
      "text/plain": [
       "<IPython.core.display.HTML object>"
      ]
     },
     "metadata": {},
     "output_type": "display_data"
    },
    {
     "data": {
      "text/html": [
       " View run <strong style=\"color:#cdcd00\">good-fire-1</strong> at: <a href='https://wandb.ai/da24s021-indian-institute-of-technology-madras/DA6401_assignment1/runs/257rgr9i' target=\"_blank\">https://wandb.ai/da24s021-indian-institute-of-technology-madras/DA6401_assignment1/runs/257rgr9i</a><br> View project at: <a href='https://wandb.ai/da24s021-indian-institute-of-technology-madras/DA6401_assignment1' target=\"_blank\">https://wandb.ai/da24s021-indian-institute-of-technology-madras/DA6401_assignment1</a><br>Synced 5 W&B file(s), 0 media file(s), 0 artifact file(s) and 0 other file(s)"
      ],
      "text/plain": [
       "<IPython.core.display.HTML object>"
      ]
     },
     "metadata": {},
     "output_type": "display_data"
    },
    {
     "data": {
      "text/html": [
       "Find logs at: <code>.\\wandb\\run-20250308_140440-257rgr9i\\logs</code>"
      ],
      "text/plain": [
       "<IPython.core.display.HTML object>"
      ]
     },
     "metadata": {},
     "output_type": "display_data"
    }
   ],
   "source": [
    "# import random\n",
    "\n",
    "# import wandb\n",
    "\n",
    "# # Start a new wandb run to track this script.\n",
    "# run = wandb.init(\n",
    "#     project=\"DA6401_assignment1\",\n",
    "#     # Track hyperparameters and run metadata.\n",
    "#     config={\n",
    "#         \"learning_rate\": 0.02,\n",
    "#         \"architecture\": \"CNN\",\n",
    "#         \"dataset\": \"CIFAR-100\",\n",
    "#         \"epochs\": 10,\n",
    "#     },\n",
    "# )\n",
    "\n",
    "# # Simulate training.\n",
    "# epochs = 10\n",
    "# offset = random.random() / 5\n",
    "# for epoch in range(2, epochs):\n",
    "#     acc = 1 - 2**-epoch - random.random() / epoch - offset\n",
    "#     loss = 2**-epoch + random.random() / epoch + offset\n",
    "\n",
    "#     # Log metrics to wandb.\n",
    "#     run.log({\"acc\": acc, \"loss\": loss})\n",
    "\n",
    "# # Finish the run and upload any remaining data.\n",
    "# run.finish()"
   ]
  },
  {
   "cell_type": "markdown",
   "metadata": {},
   "source": [
    "# Q.1"
   ]
  },
  {
   "cell_type": "code",
   "execution_count": 18,
   "metadata": {},
   "outputs": [],
   "source": [
    "from keras.datasets import fashion_mnist\n",
    "\n",
    "import matplotlib.pyplot as plt\n",
    "\n",
    "# Load the fashion-MNIST dataset\n",
    "(train_images, train_labels), (test_images, test_labels) = fashion_mnist.load_data()\n",
    "\n",
    "# Define class names\n",
    "class_names = ['T-shirt/top', 'Trouser', 'Pullover', 'Dress', 'Coat', \n",
    "               'Sandal', 'Shirt', 'Sneaker', 'Bag', 'Ankle boot']\n",
    "\n",
    "# Log images to wandb\n",
    "wandb_images = []\n",
    "for i in range(10):\n",
    "    sample_image = train_images[train_labels == i][0]\n",
    "    wandb_images.append(wandb.Image(sample_image, caption=class_names[i]))\n",
    "\n",
    "wandb.log({\"fashion_mnist_samples\": wandb_images})\n",
    "\n",
    "\n",
    "\n"
   ]
  },
  {
   "cell_type": "code",
   "execution_count": 19,
   "metadata": {},
   "outputs": [],
   "source": [
    "from neural_network import NeuralNetwork\n"
   ]
  },
  {
   "cell_type": "code",
   "execution_count": 25,
   "metadata": {},
   "outputs": [],
   "source": [
    "from keras.datasets import fashion_mnist\n",
    "from keras.utils import to_categorical\n",
    "\n",
    "# Load the fashion-MNIST dataset\n",
    "(train_images, train_labels), (test_images, test_labels) = fashion_mnist.load_data()\n",
    "\n",
    "\n"
   ]
  },
  {
   "cell_type": "code",
   "execution_count": 26,
   "metadata": {},
   "outputs": [
    {
     "data": {
      "text/plain": [
       "((60000, 28, 28), (10000, 28, 28))"
      ]
     },
     "execution_count": 26,
     "metadata": {},
     "output_type": "execute_result"
    }
   ],
   "source": [
    "import pandas as pd\n",
    "train_images.shape , test_images.shape"
   ]
  },
  {
   "cell_type": "code",
   "execution_count": 27,
   "metadata": {},
   "outputs": [],
   "source": [
    "\n",
    "# Normalize pixel values to be between 0 and 1\n",
    "train_images, test_images = train_images / 255.0, test_images / 255.0\n",
    "\n",
    "# Flatten the images\n",
    "train_images = train_images.reshape((-1, 28 * 28))\n",
    "test_images = test_images.reshape((-1, 28 * 28))\n",
    "\n",
    "\n",
    "# Convert labels to one-hot encoding\n",
    "train_labels = to_categorical(train_labels)\n",
    "test_labels = to_categorical(test_labels)\n",
    "\n"
   ]
  },
  {
   "cell_type": "code",
   "execution_count": 30,
   "metadata": {},
   "outputs": [
    {
     "data": {
      "text/plain": [
       "((60000, 10), (10000, 10))"
      ]
     },
     "execution_count": 30,
     "metadata": {},
     "output_type": "execute_result"
    }
   ],
   "source": [
    "train_images.shape , test_images.shape\n",
    "train_labels.shape , test_labels.shape\n",
    "# train_labels[:5]"
   ]
  },
  {
   "cell_type": "markdown",
   "metadata": {},
   "source": [
    "# Q.2 , Q.3"
   ]
  },
  {
   "cell_type": "code",
   "execution_count": 31,
   "metadata": {},
   "outputs": [
    {
     "name": "stdout",
     "output_type": "stream",
     "text": [
      "Epoch 1/10, Loss: 0.4011, Accuracy: 85.73%\n",
      "Validation Loss: 0.4411, Validation Accuracy: 84.14%\n",
      "Epoch 2/10, Loss: 0.3556, Accuracy: 87.07%\n",
      "Validation Loss: 0.4047, Validation Accuracy: 85.30%\n",
      "Epoch 3/10, Loss: 0.3184, Accuracy: 88.44%\n",
      "Validation Loss: 0.3750, Validation Accuracy: 86.63%\n",
      "Epoch 4/10, Loss: 0.3013, Accuracy: 88.96%\n",
      "Validation Loss: 0.3620, Validation Accuracy: 86.81%\n",
      "Epoch 5/10, Loss: 0.2745, Accuracy: 89.98%\n",
      "Validation Loss: 0.3427, Validation Accuracy: 87.59%\n",
      "Epoch 6/10, Loss: 0.2837, Accuracy: 89.56%\n",
      "Validation Loss: 0.3570, Validation Accuracy: 87.08%\n",
      "Epoch 7/10, Loss: 0.2601, Accuracy: 90.24%\n",
      "Validation Loss: 0.3367, Validation Accuracy: 87.51%\n",
      "Epoch 8/10, Loss: 0.2396, Accuracy: 91.09%\n",
      "Validation Loss: 0.3265, Validation Accuracy: 88.20%\n",
      "Epoch 9/10, Loss: 0.2512, Accuracy: 90.55%\n",
      "Validation Loss: 0.3467, Validation Accuracy: 87.60%\n",
      "Epoch 10/10, Loss: 0.2299, Accuracy: 91.43%\n",
      "Validation Loss: 0.3266, Validation Accuracy: 88.29%\n"
     ]
    }
   ],
   "source": [
    "# Train the neural network\n",
    "nn = NeuralNetwork(28 * 28, [256, 128, 64], 10,weight_initialization=\"xavier\" ,hidden_activation='sigmoid' ,  learning_rate=0.001, optimizer='adam', loss_function='cross_entropy',weight_decay=0)\n",
    "nn.train(train_images, train_labels, epochs=10, batch_size=32 , x_val=test_images, y_val=test_labels, wandb=run)"
   ]
  },
  {
   "cell_type": "markdown",
   "metadata": {},
   "source": [
    "# Q.4\n",
    "\n",
    "In the Train_NN file"
   ]
  },
  {
   "cell_type": "markdown",
   "metadata": {},
   "source": [
    "# Q.5 , # Q.6\n",
    "In the Report"
   ]
  },
  {
   "cell_type": "markdown",
   "metadata": {},
   "source": [
    "#Q.7"
   ]
  },
  {
   "cell_type": "code",
   "execution_count": 1,
   "metadata": {},
   "outputs": [
    {
     "ename": "NameError",
     "evalue": "name 'fashion_mnist' is not defined",
     "output_type": "error",
     "traceback": [
      "\u001b[1;31m---------------------------------------------------------------------------\u001b[0m",
      "\u001b[1;31mNameError\u001b[0m                                 Traceback (most recent call last)",
      "Cell \u001b[1;32mIn[1], line 1\u001b[0m\n\u001b[1;32m----> 1\u001b[0m (train_images, train_labels), (test_images, test_labels) \u001b[38;5;241m=\u001b[39m \u001b[43mfashion_mnist\u001b[49m\u001b[38;5;241m.\u001b[39mload_data()\n\u001b[0;32m      2\u001b[0m test_images \u001b[38;5;241m=\u001b[39m test_images \u001b[38;5;241m/\u001b[39m \u001b[38;5;241m255.0\u001b[39m\n\u001b[0;32m      3\u001b[0m test_images \u001b[38;5;241m=\u001b[39m test_images\u001b[38;5;241m.\u001b[39mreshape((\u001b[38;5;241m-\u001b[39m\u001b[38;5;241m1\u001b[39m, \u001b[38;5;241m28\u001b[39m \u001b[38;5;241m*\u001b[39m \u001b[38;5;241m28\u001b[39m))\n",
      "\u001b[1;31mNameError\u001b[0m: name 'fashion_mnist' is not defined"
     ]
    }
   ],
   "source": [
    "(train_images, train_labels), (test_images, test_labels) = fashion_mnist.load_data()\n",
    "test_images = test_images / 255.0\n",
    "test_images = test_images.reshape((-1, 28 * 28))\n",
    "\n",
    "pred = nn.predict(test_images)\n",
    "class_names=class_names\n",
    "cm = wandb.plot.confusion_matrix(\n",
    "    y_true=test_labels, preds=pred, class_names=class_names\n",
    ")\n",
    "\n",
    "\n",
    "wandb.log({\"conf_mat\": cm})\n"
   ]
  },
  {
   "cell_type": "code",
   "execution_count": null,
   "metadata": {},
   "outputs": [],
   "source": [
    "# "
   ]
  },
  {
   "cell_type": "code",
   "execution_count": null,
   "metadata": {},
   "outputs": [],
   "source": [
    "#Q.4"
   ]
  },
  {
   "cell_type": "code",
   "execution_count": null,
   "metadata": {},
   "outputs": [
    {
     "data": {
      "text/plain": [
       "array([0.09301743, 0.09728745, 0.10111826, 0.10010601, 0.10519973,\n",
       "       0.10813293, 0.09128547, 0.11670652, 0.10165429, 0.13087583])"
      ]
     },
     "execution_count": 11,
     "metadata": {},
     "output_type": "execute_result"
    }
   ],
   "source": [
    "nn.lit[0]"
   ]
  },
  {
   "cell_type": "code",
   "execution_count": 1,
   "metadata": {},
   "outputs": [],
   "source": [
    "layer_sizes = [28 * 28, 256, 128, 64, 10]"
   ]
  },
  {
   "cell_type": "code",
   "execution_count": null,
   "metadata": {},
   "outputs": [],
   "source": [
    "weights = [\n",
    "                np.random.uniform(\n",
    "                    low=-(np.sqrt(6) / np.sqrt(layer_sizes[i] + layer_sizes[i + 1])),\n",
    "                    high=(np.sqrt(6) / np.sqrt(layer_sizes[i] + layer_sizes[i + 1]))\n",
    "                )\n",
    "                for i in range(len(layer_sizes) - 1)\n",
    "            ]"
   ]
  },
  {
   "cell_type": "code",
   "execution_count": 7,
   "metadata": {},
   "outputs": [],
   "source": [
    "weights = [\n",
    "                np.random.randn(layer_sizes[i], layer_sizes[i + 1]) * 0.01\n",
    "                for i in range(len(layer_sizes) - 1)\n",
    "            ]"
   ]
  },
  {
   "cell_type": "code",
   "execution_count": 9,
   "metadata": {},
   "outputs": [
    {
     "data": {
      "text/plain": [
       "(784, 256)"
      ]
     },
     "execution_count": 9,
     "metadata": {},
     "output_type": "execute_result"
    }
   ],
   "source": [
    "weights[0].shape"
   ]
  },
  {
   "cell_type": "code",
   "execution_count": 19,
   "metadata": {},
   "outputs": [],
   "source": [
    "a = 2"
   ]
  },
  {
   "cell_type": "code",
   "execution_count": 20,
   "metadata": {},
   "outputs": [],
   "source": [
    "if a := 1:\n",
    "    f = 6\n",
    "else:\n",
    "    f = 7"
   ]
  },
  {
   "cell_type": "code",
   "execution_count": 21,
   "metadata": {},
   "outputs": [
    {
     "data": {
      "text/plain": [
       "6"
      ]
     },
     "execution_count": 21,
     "metadata": {},
     "output_type": "execute_result"
    }
   ],
   "source": [
    "f"
   ]
  },
  {
   "cell_type": "code",
   "execution_count": null,
   "metadata": {},
   "outputs": [],
   "source": []
  }
 ],
 "metadata": {
  "kernelspec": {
   "display_name": "Python 3",
   "language": "python",
   "name": "python3"
  },
  "language_info": {
   "codemirror_mode": {
    "name": "ipython",
    "version": 3
   },
   "file_extension": ".py",
   "mimetype": "text/x-python",
   "name": "python",
   "nbconvert_exporter": "python",
   "pygments_lexer": "ipython3",
   "version": "3.10.9"
  }
 },
 "nbformat": 4,
 "nbformat_minor": 2
}
