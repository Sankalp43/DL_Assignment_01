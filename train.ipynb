{
 "cells": [
  {
   "cell_type": "code",
   "execution_count": 1,
   "metadata": {},
   "outputs": [],
   "source": [
    "import numpy as np\n",
    "import pandas as pd\n",
    "import matplotlib.pyplot as plt\n",
    "from neural_network import NeuralNetwork"
   ]
  },
  {
   "cell_type": "code",
   "execution_count": 8,
   "metadata": {},
   "outputs": [
    {
     "name": "stderr",
     "output_type": "stream",
     "text": [
      "wandb: Using wandb-core as the SDK backend.  Please refer to https://wandb.me/wandb-core for more information.\n",
      "wandb: Currently logged in as: da24s021 (da24s021-indian-institute-of-technology-madras) to https://api.wandb.ai. Use `wandb login --relogin` to force relogin\n"
     ]
    },
    {
     "data": {
      "text/html": [
       "creating run (0.1s)"
      ],
      "text/plain": [
       "<IPython.core.display.HTML object>"
      ]
     },
     "metadata": {},
     "output_type": "display_data"
    },
    {
     "data": {
      "text/html": [
       "Tracking run with wandb version 0.19.8"
      ],
      "text/plain": [
       "<IPython.core.display.HTML object>"
      ]
     },
     "metadata": {},
     "output_type": "display_data"
    },
    {
     "data": {
      "text/html": [
       "Run data is saved locally in <code>c:\\Users\\sanka\\Desktop\\DL\\wandb\\run-20250317_044150-5bqz13uw</code>"
      ],
      "text/plain": [
       "<IPython.core.display.HTML object>"
      ]
     },
     "metadata": {},
     "output_type": "display_data"
    },
    {
     "data": {
      "text/html": [
       "Syncing run <strong><a href='https://wandb.ai/da24s021-indian-institute-of-technology-madras/DA6401_assignment1/runs/5bqz13uw' target=\"_blank\">pretty-bee-182</a></strong> to <a href='https://wandb.ai/da24s021-indian-institute-of-technology-madras/DA6401_assignment1' target=\"_blank\">Weights & Biases</a> (<a href='https://wandb.me/developer-guide' target=\"_blank\">docs</a>)<br>"
      ],
      "text/plain": [
       "<IPython.core.display.HTML object>"
      ]
     },
     "metadata": {},
     "output_type": "display_data"
    },
    {
     "data": {
      "text/html": [
       " View project at <a href='https://wandb.ai/da24s021-indian-institute-of-technology-madras/DA6401_assignment1' target=\"_blank\">https://wandb.ai/da24s021-indian-institute-of-technology-madras/DA6401_assignment1</a>"
      ],
      "text/plain": [
       "<IPython.core.display.HTML object>"
      ]
     },
     "metadata": {},
     "output_type": "display_data"
    },
    {
     "data": {
      "text/html": [
       " View run at <a href='https://wandb.ai/da24s021-indian-institute-of-technology-madras/DA6401_assignment1/runs/5bqz13uw' target=\"_blank\">https://wandb.ai/da24s021-indian-institute-of-technology-madras/DA6401_assignment1/runs/5bqz13uw</a>"
      ],
      "text/plain": [
       "<IPython.core.display.HTML object>"
      ]
     },
     "metadata": {},
     "output_type": "display_data"
    }
   ],
   "source": [
    "import wandb\n",
    "\n",
    "\n",
    "run = wandb.init(\n",
    "      project=\"DA6401_assignment1\"\n",
    "      )"
   ]
  },
  {
   "cell_type": "code",
   "execution_count": null,
   "metadata": {},
   "outputs": [
    {
     "data": {
      "text/html": [
       "Tracking run with wandb version 0.19.8"
      ],
      "text/plain": [
       "<IPython.core.display.HTML object>"
      ]
     },
     "metadata": {},
     "output_type": "display_data"
    },
    {
     "data": {
      "text/html": [
       "Run data is saved locally in <code>c:\\Users\\sanka\\Desktop\\DL\\wandb\\run-20250308_140440-257rgr9i</code>"
      ],
      "text/plain": [
       "<IPython.core.display.HTML object>"
      ]
     },
     "metadata": {},
     "output_type": "display_data"
    },
    {
     "data": {
      "text/html": [
       "Syncing run <strong><a href='https://wandb.ai/da24s021-indian-institute-of-technology-madras/DA6401_assignment1/runs/257rgr9i' target=\"_blank\">good-fire-1</a></strong> to <a href='https://wandb.ai/da24s021-indian-institute-of-technology-madras/DA6401_assignment1' target=\"_blank\">Weights & Biases</a> (<a href='https://wandb.me/developer-guide' target=\"_blank\">docs</a>)<br>"
      ],
      "text/plain": [
       "<IPython.core.display.HTML object>"
      ]
     },
     "metadata": {},
     "output_type": "display_data"
    },
    {
     "data": {
      "text/html": [
       " View project at <a href='https://wandb.ai/da24s021-indian-institute-of-technology-madras/DA6401_assignment1' target=\"_blank\">https://wandb.ai/da24s021-indian-institute-of-technology-madras/DA6401_assignment1</a>"
      ],
      "text/plain": [
       "<IPython.core.display.HTML object>"
      ]
     },
     "metadata": {},
     "output_type": "display_data"
    },
    {
     "data": {
      "text/html": [
       " View run at <a href='https://wandb.ai/da24s021-indian-institute-of-technology-madras/DA6401_assignment1/runs/257rgr9i' target=\"_blank\">https://wandb.ai/da24s021-indian-institute-of-technology-madras/DA6401_assignment1/runs/257rgr9i</a>"
      ],
      "text/plain": [
       "<IPython.core.display.HTML object>"
      ]
     },
     "metadata": {},
     "output_type": "display_data"
    },
    {
     "data": {
      "text/html": [],
      "text/plain": [
       "<IPython.core.display.HTML object>"
      ]
     },
     "metadata": {},
     "output_type": "display_data"
    },
    {
     "data": {
      "text/html": [
       "<br>    <style><br>        .wandb-row {<br>            display: flex;<br>            flex-direction: row;<br>            flex-wrap: wrap;<br>            justify-content: flex-start;<br>            width: 100%;<br>        }<br>        .wandb-col {<br>            display: flex;<br>            flex-direction: column;<br>            flex-basis: 100%;<br>            flex: 1;<br>            padding: 10px;<br>        }<br>    </style><br><div class=\"wandb-row\"><div class=\"wandb-col\"><h3>Run history:</h3><br/><table class=\"wandb\"><tr><td>acc</td><td>▂▁▇▇▇▆▇█</td></tr><tr><td>loss</td><td>█▆▃▂▁▂▂▁</td></tr></table><br/></div><div class=\"wandb-col\"><h3>Run summary:</h3><br/><table class=\"wandb\"><tr><td>acc</td><td>0.81571</td></tr><tr><td>loss</td><td>0.22152</td></tr></table><br/></div></div>"
      ],
      "text/plain": [
       "<IPython.core.display.HTML object>"
      ]
     },
     "metadata": {},
     "output_type": "display_data"
    },
    {
     "data": {
      "text/html": [
       " View run <strong style=\"color:#cdcd00\">good-fire-1</strong> at: <a href='https://wandb.ai/da24s021-indian-institute-of-technology-madras/DA6401_assignment1/runs/257rgr9i' target=\"_blank\">https://wandb.ai/da24s021-indian-institute-of-technology-madras/DA6401_assignment1/runs/257rgr9i</a><br> View project at: <a href='https://wandb.ai/da24s021-indian-institute-of-technology-madras/DA6401_assignment1' target=\"_blank\">https://wandb.ai/da24s021-indian-institute-of-technology-madras/DA6401_assignment1</a><br>Synced 5 W&B file(s), 0 media file(s), 0 artifact file(s) and 0 other file(s)"
      ],
      "text/plain": [
       "<IPython.core.display.HTML object>"
      ]
     },
     "metadata": {},
     "output_type": "display_data"
    },
    {
     "data": {
      "text/html": [
       "Find logs at: <code>.\\wandb\\run-20250308_140440-257rgr9i\\logs</code>"
      ],
      "text/plain": [
       "<IPython.core.display.HTML object>"
      ]
     },
     "metadata": {},
     "output_type": "display_data"
    }
   ],
   "source": [
    "# import random\n",
    "\n",
    "# import wandb\n",
    "\n",
    "# # Start a new wandb run to track this script.\n",
    "# run = wandb.init(\n",
    "#     project=\"DA6401_assignment1\",\n",
    "#     # Track hyperparameters and run metadata.\n",
    "#     config={\n",
    "#         \"learning_rate\": 0.02,\n",
    "#         \"architecture\": \"CNN\",\n",
    "#         \"dataset\": \"CIFAR-100\",\n",
    "#         \"epochs\": 10,\n",
    "#     },\n",
    "# )\n",
    "\n",
    "# # Simulate training.\n",
    "# epochs = 10\n",
    "# offset = random.random() / 5\n",
    "# for epoch in range(2, epochs):\n",
    "#     acc = 1 - 2**-epoch - random.random() / epoch - offset\n",
    "#     loss = 2**-epoch + random.random() / epoch + offset\n",
    "\n",
    "#     # Log metrics to wandb.\n",
    "#     run.log({\"acc\": acc, \"loss\": loss})\n",
    "\n",
    "# # Finish the run and upload any remaining data.\n",
    "# run.finish()"
   ]
  },
  {
   "cell_type": "markdown",
   "metadata": {},
   "source": [
    "# Q.1"
   ]
  },
  {
   "cell_type": "code",
   "execution_count": null,
   "metadata": {},
   "outputs": [],
   "source": [
    "from keras.datasets import fashion_mnist\n",
    "\n",
    "import matplotlib.pyplot as plt\n",
    "\n",
    "# Load the fashion-MNIST dataset\n",
    "(train_images, train_labels), (test_images, test_labels) = fashion_mnist.load_data()\n",
    "\n",
    "# Define class names\n",
    "class_names = ['T-shirt/top', 'Trouser', 'Pullover', 'Dress', 'Coat', \n",
    "               'Sandal', 'Shirt', 'Sneaker', 'Bag', 'Ankle boot']\n",
    "\n",
    "# Log images to wandb\n",
    "wandb_images = []\n",
    "for i in range(10):\n",
    "    sample_image = train_images[train_labels == i][0]\n",
    "    wandb_images.append(wandb.Image(sample_image, caption=class_names[i]))\n",
    "\n",
    "wandb.log({\"fashion_mnist_samples\": wandb_images})\n",
    "\n",
    "\n",
    "\n"
   ]
  },
  {
   "cell_type": "code",
   "execution_count": 2,
   "metadata": {},
   "outputs": [],
   "source": [
    "from neural_network import NeuralNetwork\n"
   ]
  },
  {
   "cell_type": "code",
   "execution_count": 3,
   "metadata": {},
   "outputs": [],
   "source": [
    "from keras.datasets import fashion_mnist\n",
    "from keras.utils import to_categorical\n",
    "\n",
    "# Load the fashion-MNIST dataset\n",
    "(train_images, train_labels), (test_images, test_labels) = fashion_mnist.load_data()\n",
    "\n",
    "\n"
   ]
  },
  {
   "cell_type": "code",
   "execution_count": 4,
   "metadata": {},
   "outputs": [
    {
     "data": {
      "text/plain": [
       "((60000, 28, 28), (10000, 28, 28))"
      ]
     },
     "execution_count": 4,
     "metadata": {},
     "output_type": "execute_result"
    }
   ],
   "source": [
    "import pandas as pd\n",
    "train_images.shape , test_images.shape"
   ]
  },
  {
   "cell_type": "code",
   "execution_count": 5,
   "metadata": {},
   "outputs": [],
   "source": [
    "\n",
    "# Normalize pixel values to be between 0 and 1\n",
    "train_images, test_images = train_images / 255.0, test_images / 255.0\n",
    "\n",
    "# Flatten the images\n",
    "train_images = train_images.reshape((-1, 28 * 28))\n",
    "test_images = test_images.reshape((-1, 28 * 28))\n",
    "\n",
    "\n",
    "# Convert labels to one-hot encoding\n",
    "train_labels = to_categorical(train_labels)\n",
    "test_labels = to_categorical(test_labels)\n",
    "\n"
   ]
  },
  {
   "cell_type": "code",
   "execution_count": 6,
   "metadata": {},
   "outputs": [
    {
     "data": {
      "text/plain": [
       "((60000, 10), (10000, 10))"
      ]
     },
     "execution_count": 6,
     "metadata": {},
     "output_type": "execute_result"
    }
   ],
   "source": [
    "train_images.shape , test_images.shape\n",
    "train_labels.shape , test_labels.shape\n",
    "# train_labels[:5]"
   ]
  },
  {
   "cell_type": "markdown",
   "metadata": {},
   "source": [
    "# Q.2 , Q.3"
   ]
  },
  {
   "cell_type": "code",
   "execution_count": 10,
   "metadata": {},
   "outputs": [
    {
     "name": "stdout",
     "output_type": "stream",
     "text": [
      "Epoch 1/10, Loss: 0.4141, Accuracy: 85.37%\n",
      "Validation Loss: 0.4565, Validation Accuracy: 84.09%\n",
      "Epoch 2/10, Loss: 0.3552, Accuracy: 87.18%\n",
      "Validation Loss: 0.4077, Validation Accuracy: 85.26%\n",
      "Epoch 3/10, Loss: 0.3233, Accuracy: 88.32%\n",
      "Validation Loss: 0.3844, Validation Accuracy: 86.18%\n",
      "Epoch 4/10, Loss: 0.2961, Accuracy: 89.26%\n",
      "Validation Loss: 0.3611, Validation Accuracy: 87.17%\n",
      "Epoch 5/10, Loss: 0.2800, Accuracy: 89.88%\n",
      "Validation Loss: 0.3551, Validation Accuracy: 87.39%\n",
      "Epoch 6/10, Loss: 0.2570, Accuracy: 90.68%\n",
      "Validation Loss: 0.3340, Validation Accuracy: 87.99%\n",
      "Epoch 7/10, Loss: 0.2539, Accuracy: 90.53%\n",
      "Validation Loss: 0.3407, Validation Accuracy: 87.85%\n",
      "Epoch 8/10, Loss: 0.2320, Accuracy: 91.51%\n",
      "Validation Loss: 0.3244, Validation Accuracy: 88.34%\n",
      "Epoch 9/10, Loss: 0.2377, Accuracy: 91.14%\n",
      "Validation Loss: 0.3404, Validation Accuracy: 87.78%\n",
      "Epoch 10/10, Loss: 0.2143, Accuracy: 92.09%\n",
      "Validation Loss: 0.3253, Validation Accuracy: 88.72%\n"
     ]
    }
   ],
   "source": [
    "# Train the neural network\n",
    "nn = NeuralNetwork(28 * 28, [256, 128, 64], 10,weight_initialization=\"xavier\" ,hidden_activation='sigmoid' ,  learning_rate=0.001, optimizer='nadam', loss_function='cross_entropy',weight_decay=0)\n",
    "nn.train(train_images, train_labels, epochs=10, batch_size=32 , x_val=test_images, y_val=test_labels, wandb=run)"
   ]
  },
  {
   "cell_type": "markdown",
   "metadata": {},
   "source": [
    "# Q.4\n",
    "\n",
    "In the Train_NN file"
   ]
  },
  {
   "cell_type": "markdown",
   "metadata": {},
   "source": [
    "# Q.5 , # Q.6\n",
    "In the Report"
   ]
  },
  {
   "cell_type": "markdown",
   "metadata": {},
   "source": [
    "# Q.7"
   ]
  },
  {
   "cell_type": "code",
   "execution_count": 8,
   "metadata": {},
   "outputs": [
    {
     "data": {
      "text/html": [],
      "text/plain": [
       "<IPython.core.display.HTML object>"
      ]
     },
     "metadata": {},
     "output_type": "display_data"
    },
    {
     "data": {
      "text/html": [
       "<br>    <style><br>        .wandb-row {<br>            display: flex;<br>            flex-direction: row;<br>            flex-wrap: wrap;<br>            justify-content: flex-start;<br>            width: 100%;<br>        }<br>        .wandb-col {<br>            display: flex;<br>            flex-direction: column;<br>            flex-basis: 100%;<br>            flex: 1;<br>            padding: 10px;<br>        }<br>    </style><br><div class=\"wandb-row\"><div class=\"wandb-col\"><h3>Run history:</h3><br/><table class=\"wandb\"><tr><td>Train_Accuracy</td><td>▁▃▄▄▆▆▆█▇█</td></tr><tr><td>Train_Loss</td><td>█▆▅▅▃▃▃▁▂▁</td></tr><tr><td>Val Accuracy</td><td>▁▄▃▃▇▇▆█▆█</td></tr><tr><td>Val Loss</td><td>█▅▄▅▂▂▃▁▂▁</td></tr></table><br/></div><div class=\"wandb-col\"><h3>Run summary:</h3><br/><table class=\"wandb\"><tr><td>Train_Accuracy</td><td>91.4</td></tr><tr><td>Train_Loss</td><td>0.23003</td></tr><tr><td>Val Accuracy</td><td>88.05</td></tr><tr><td>Val Loss</td><td>0.33146</td></tr></table><br/></div></div>"
      ],
      "text/plain": [
       "<IPython.core.display.HTML object>"
      ]
     },
     "metadata": {},
     "output_type": "display_data"
    },
    {
     "data": {
      "text/html": [
       " View run <strong style=\"color:#cdcd00\">electric-sun-61</strong> at: <a href='https://wandb.ai/da24s021-indian-institute-of-technology-madras/DA6401_assignment1/runs/pdykp7en' target=\"_blank\">https://wandb.ai/da24s021-indian-institute-of-technology-madras/DA6401_assignment1/runs/pdykp7en</a><br> View project at: <a href='https://wandb.ai/da24s021-indian-institute-of-technology-madras/DA6401_assignment1' target=\"_blank\">https://wandb.ai/da24s021-indian-institute-of-technology-madras/DA6401_assignment1</a><br>Synced 5 W&B file(s), 1 media file(s), 2 artifact file(s) and 0 other file(s)"
      ],
      "text/plain": [
       "<IPython.core.display.HTML object>"
      ]
     },
     "metadata": {},
     "output_type": "display_data"
    },
    {
     "data": {
      "text/html": [
       "Find logs at: <code>.\\wandb\\run-20250316_234728-pdykp7en\\logs</code>"
      ],
      "text/plain": [
       "<IPython.core.display.HTML object>"
      ]
     },
     "metadata": {},
     "output_type": "display_data"
    }
   ],
   "source": [
    "(train_images, train_labels), (test_images, test_labels) = fashion_mnist.load_data()\n",
    "test_images = test_images / 255.0\n",
    "test_images = test_images.reshape((-1, 28 * 28))\n",
    "\n",
    "\n",
    "class_names = ['T-shirt/top', 'Trouser', 'Pullover', 'Dress', 'Coat', \n",
    "               'Sandal', 'Shirt', 'Sneaker', 'Bag', 'Ankle boot']\n",
    "pred = nn.predict(test_images)\n",
    "class_names=class_names\n",
    "cm = wandb.plot.confusion_matrix(\n",
    "    y_true=test_labels, preds=pred, class_names=class_names\n",
    ")\n",
    "\n",
    "\n",
    "wandb.log({\"conf_mat\": cm})\n",
    "run.finish()"
   ]
  },
  {
   "cell_type": "markdown",
   "metadata": {},
   "source": [
    "# Q.8,\n",
    "Ran a new sweep over mse loss and plotted in the report, Look findings in the report."
   ]
  },
  {
   "cell_type": "markdown",
   "metadata": {},
   "source": [
    "# Q.9"
   ]
  },
  {
   "cell_type": "code",
   "execution_count": 25,
   "metadata": {},
   "outputs": [],
   "source": [
    "from keras.datasets import mnist\n",
    "\n",
    "train_images, train_labels = mnist.load_data()[0]\n",
    "test_images, test_labels = mnist.load_data()[1]\n",
    "\n",
    "train_images = train_images / 255.0\n",
    "test_images = test_images / 255.0\n",
    "\n",
    "train_images = train_images.reshape((-1, 28 * 28))\n",
    "test_images = test_images.reshape((-1, 28 * 28))\n",
    "\n",
    "train_labels = to_categorical(train_labels)\n",
    "test_labels = to_categorical(test_labels)\n",
    "\n"
   ]
  },
  {
   "cell_type": "code",
   "execution_count": 26,
   "metadata": {},
   "outputs": [
    {
     "data": {
      "text/html": [
       "Tracking run with wandb version 0.19.8"
      ],
      "text/plain": [
       "<IPython.core.display.HTML object>"
      ]
     },
     "metadata": {},
     "output_type": "display_data"
    },
    {
     "data": {
      "text/html": [
       "Run data is saved locally in <code>c:\\Users\\sanka\\Desktop\\DL\\wandb\\run-20250317_040943-lg4aushw</code>"
      ],
      "text/plain": [
       "<IPython.core.display.HTML object>"
      ]
     },
     "metadata": {},
     "output_type": "display_data"
    },
    {
     "data": {
      "text/html": [
       "Syncing run <strong><a href='https://wandb.ai/da24s021-indian-institute-of-technology-madras/DA6401_assignment1/runs/lg4aushw' target=\"_blank\">classic-valley-170</a></strong> to <a href='https://wandb.ai/da24s021-indian-institute-of-technology-madras/DA6401_assignment1' target=\"_blank\">Weights & Biases</a> (<a href='https://wandb.me/developer-guide' target=\"_blank\">docs</a>)<br>"
      ],
      "text/plain": [
       "<IPython.core.display.HTML object>"
      ]
     },
     "metadata": {},
     "output_type": "display_data"
    },
    {
     "data": {
      "text/html": [
       " View project at <a href='https://wandb.ai/da24s021-indian-institute-of-technology-madras/DA6401_assignment1' target=\"_blank\">https://wandb.ai/da24s021-indian-institute-of-technology-madras/DA6401_assignment1</a>"
      ],
      "text/plain": [
       "<IPython.core.display.HTML object>"
      ]
     },
     "metadata": {},
     "output_type": "display_data"
    },
    {
     "data": {
      "text/html": [
       " View run at <a href='https://wandb.ai/da24s021-indian-institute-of-technology-madras/DA6401_assignment1/runs/lg4aushw' target=\"_blank\">https://wandb.ai/da24s021-indian-institute-of-technology-madras/DA6401_assignment1/runs/lg4aushw</a>"
      ],
      "text/plain": [
       "<IPython.core.display.HTML object>"
      ]
     },
     "metadata": {},
     "output_type": "display_data"
    }
   ],
   "source": [
    "import wandb\n",
    "\n",
    "\n",
    "run = wandb.init(\n",
    "      project=\"DA6401_assignment1\"\n",
    "      )"
   ]
  },
  {
   "cell_type": "markdown",
   "metadata": {},
   "source": [
    "## First Recommendation\n",
    " hidden_layers=5,                 |             hidden_layer_size=128,\n",
    " weight_initialization=\"random\" , |             hidden_activation='relu' ,  \n",
    " learning_rate=0.0001,            |             optimizer='nadam', \n",
    " loss_function='cross_entropy',   |             weight_decay=0.0005\n",
    " epochs = 10,                     |             batch_size = 16"
   ]
  },
  {
   "cell_type": "code",
   "execution_count": 21,
   "metadata": {},
   "outputs": [
    {
     "name": "stdout",
     "output_type": "stream",
     "text": [
      "Epoch 1/10, Loss: 0.1868, Accuracy: 94.45%\n",
      "Validation Loss: 0.1842, Validation Accuracy: 94.29%\n",
      "Epoch 2/10, Loss: 0.1231, Accuracy: 96.27%\n",
      "Validation Loss: 0.1340, Validation Accuracy: 95.80%\n",
      "Epoch 3/10, Loss: 0.1075, Accuracy: 96.68%\n",
      "Validation Loss: 0.1328, Validation Accuracy: 96.08%\n",
      "Epoch 4/10, Loss: 0.0705, Accuracy: 97.83%\n",
      "Validation Loss: 0.0976, Validation Accuracy: 97.09%\n",
      "Epoch 5/10, Loss: 0.0504, Accuracy: 98.50%\n",
      "Validation Loss: 0.0846, Validation Accuracy: 97.53%\n",
      "Epoch 6/10, Loss: 0.0566, Accuracy: 98.27%\n",
      "Validation Loss: 0.0936, Validation Accuracy: 97.25%\n",
      "Epoch 7/10, Loss: 0.0361, Accuracy: 98.89%\n",
      "Validation Loss: 0.0838, Validation Accuracy: 97.46%\n",
      "Epoch 8/10, Loss: 0.0296, Accuracy: 99.16%\n",
      "Validation Loss: 0.0834, Validation Accuracy: 97.46%\n",
      "Epoch 9/10, Loss: 0.0292, Accuracy: 99.06%\n",
      "Validation Loss: 0.0869, Validation Accuracy: 97.56%\n",
      "Epoch 10/10, Loss: 0.0197, Accuracy: 99.43%\n",
      "Validation Loss: 0.0771, Validation Accuracy: 97.96%\n"
     ]
    },
    {
     "data": {
      "text/html": [],
      "text/plain": [
       "<IPython.core.display.HTML object>"
      ]
     },
     "metadata": {},
     "output_type": "display_data"
    },
    {
     "data": {
      "text/html": [
       "<br>    <style><br>        .wandb-row {<br>            display: flex;<br>            flex-direction: row;<br>            flex-wrap: wrap;<br>            justify-content: flex-start;<br>            width: 100%;<br>        }<br>        .wandb-col {<br>            display: flex;<br>            flex-direction: column;<br>            flex-basis: 100%;<br>            flex: 1;<br>            padding: 10px;<br>        }<br>    </style><br><div class=\"wandb-row\"><div class=\"wandb-col\"><h3>Run history:</h3><br/><table class=\"wandb\"><tr><td>Train_Accuracy</td><td>▁▄▄▆▇▆▇█▇█</td></tr><tr><td>Train_Loss</td><td>█▅▅▃▂▃▂▁▁▁</td></tr><tr><td>Val Accuracy</td><td>▁▄▄▆▇▇▇▇▇█</td></tr><tr><td>Val Loss</td><td>█▅▅▂▁▂▁▁▂▁</td></tr></table><br/></div><div class=\"wandb-col\"><h3>Run summary:</h3><br/><table class=\"wandb\"><tr><td>Train_Accuracy</td><td>99.42833</td></tr><tr><td>Train_Loss</td><td>0.01967</td></tr><tr><td>Val Accuracy</td><td>97.96</td></tr><tr><td>Val Loss</td><td>0.07708</td></tr></table><br/></div></div>"
      ],
      "text/plain": [
       "<IPython.core.display.HTML object>"
      ]
     },
     "metadata": {},
     "output_type": "display_data"
    },
    {
     "data": {
      "text/html": [
       " View run <strong style=\"color:#cdcd00\">magic-surf-168</strong> at: <a href='https://wandb.ai/da24s021-indian-institute-of-technology-madras/DA6401_assignment1/runs/mo7ispgj' target=\"_blank\">https://wandb.ai/da24s021-indian-institute-of-technology-madras/DA6401_assignment1/runs/mo7ispgj</a><br> View project at: <a href='https://wandb.ai/da24s021-indian-institute-of-technology-madras/DA6401_assignment1' target=\"_blank\">https://wandb.ai/da24s021-indian-institute-of-technology-madras/DA6401_assignment1</a><br>Synced 5 W&B file(s), 0 media file(s), 0 artifact file(s) and 0 other file(s)"
      ],
      "text/plain": [
       "<IPython.core.display.HTML object>"
      ]
     },
     "metadata": {},
     "output_type": "display_data"
    },
    {
     "data": {
      "text/html": [
       "Find logs at: <code>.\\wandb\\run-20250317_040140-mo7ispgj\\logs</code>"
      ],
      "text/plain": [
       "<IPython.core.display.HTML object>"
      ]
     },
     "metadata": {},
     "output_type": "display_data"
    }
   ],
   "source": [
    "nn = NeuralNetwork(28 * 28, [128, 128, 128, 128,128], 10,weight_initialization=\"random\" ,hidden_activation='relu' ,  learning_rate=0.0001, optimizer='nadam', loss_function='cross_entropy',weight_decay=0.0005)\n",
    "nn.train(train_images, train_labels, epochs=10, batch_size=16 , x_val=test_images, y_val=test_labels, wandb=run)\n",
    "run.finish()"
   ]
  },
  {
   "cell_type": "markdown",
   "metadata": {},
   "source": [
    "## Senond Recommendation\n",
    " hidden_layers=3,                 |             hidden_layer_size=128,\n",
    " weight_initialization=\"random\" , |             hidden_activation='relu' ,  \n",
    " learning_rate=0.001,            |             optimizer='adam', \n",
    " loss_function='cross_entropy',   |             weight_decay=0.\n",
    " epochs = 5,                     |             batch_size = 64"
   ]
  },
  {
   "cell_type": "code",
   "execution_count": null,
   "metadata": {},
   "outputs": [
    {
     "name": "stdout",
     "output_type": "stream",
     "text": [
      "Epoch 1/5, Loss: 0.1093, Accuracy: 96.78%\n",
      "Validation Loss: 0.1234, Validation Accuracy: 96.28%\n",
      "Epoch 2/5, Loss: 0.0818, Accuracy: 97.45%\n",
      "Validation Loss: 0.0993, Validation Accuracy: 96.82%\n",
      "Epoch 3/5, Loss: 0.0550, Accuracy: 98.30%\n",
      "Validation Loss: 0.0876, Validation Accuracy: 97.24%\n",
      "Epoch 4/5, Loss: 0.0410, Accuracy: 98.69%\n",
      "Validation Loss: 0.0844, Validation Accuracy: 97.56%\n",
      "Epoch 5/5, Loss: 0.0323, Accuracy: 98.97%\n",
      "Validation Loss: 0.0836, Validation Accuracy: 97.43%\n"
     ]
    },
    {
     "data": {
      "text/html": [],
      "text/plain": [
       "<IPython.core.display.HTML object>"
      ]
     },
     "metadata": {},
     "output_type": "display_data"
    },
    {
     "data": {
      "text/html": [
       "<br>    <style><br>        .wandb-row {<br>            display: flex;<br>            flex-direction: row;<br>            flex-wrap: wrap;<br>            justify-content: flex-start;<br>            width: 100%;<br>        }<br>        .wandb-col {<br>            display: flex;<br>            flex-direction: column;<br>            flex-basis: 100%;<br>            flex: 1;<br>            padding: 10px;<br>        }<br>    </style><br><div class=\"wandb-row\"><div class=\"wandb-col\"><h3>Run history:</h3><br/><table class=\"wandb\"><tr><td>Train_Accuracy</td><td>▁▃▆▇█</td></tr><tr><td>Train_Loss</td><td>█▆▃▂▁</td></tr><tr><td>Val Accuracy</td><td>▁▄▆█▇</td></tr><tr><td>Val Loss</td><td>█▄▂▁▁</td></tr></table><br/></div><div class=\"wandb-col\"><h3>Run summary:</h3><br/><table class=\"wandb\"><tr><td>Train_Accuracy</td><td>98.96833</td></tr><tr><td>Train_Loss</td><td>0.03227</td></tr><tr><td>Val Accuracy</td><td>97.43</td></tr><tr><td>Val Loss</td><td>0.08357</td></tr></table><br/></div></div>"
      ],
      "text/plain": [
       "<IPython.core.display.HTML object>"
      ]
     },
     "metadata": {},
     "output_type": "display_data"
    },
    {
     "data": {
      "text/html": [
       " View run <strong style=\"color:#cdcd00\">trim-smoke-169</strong> at: <a href='https://wandb.ai/da24s021-indian-institute-of-technology-madras/DA6401_assignment1/runs/3nkuo39u' target=\"_blank\">https://wandb.ai/da24s021-indian-institute-of-technology-madras/DA6401_assignment1/runs/3nkuo39u</a><br> View project at: <a href='https://wandb.ai/da24s021-indian-institute-of-technology-madras/DA6401_assignment1' target=\"_blank\">https://wandb.ai/da24s021-indian-institute-of-technology-madras/DA6401_assignment1</a><br>Synced 5 W&B file(s), 0 media file(s), 0 artifact file(s) and 0 other file(s)"
      ],
      "text/plain": [
       "<IPython.core.display.HTML object>"
      ]
     },
     "metadata": {},
     "output_type": "display_data"
    },
    {
     "data": {
      "text/html": [
       "Find logs at: <code>.\\wandb\\run-20250317_040523-3nkuo39u\\logs</code>"
      ],
      "text/plain": [
       "<IPython.core.display.HTML object>"
      ]
     },
     "metadata": {},
     "output_type": "display_data"
    }
   ],
   "source": [
    "nn = NeuralNetwork(28 * 28, [ 128, 128,128], 10,weight_initialization=\"random\" ,hidden_activation='relu' ,  learning_rate=0.001, optimizer='adam', loss_function='cross_entropy',weight_decay=0)\n",
    "nn.train(train_images, train_labels, epochs=5, batch_size=64 , x_val=test_images, y_val=test_labels, wandb=run)\n",
    "# run.finish()"
   ]
  },
  {
   "cell_type": "markdown",
   "metadata": {},
   "source": [
    "## Third Recommendation\n",
    " hidden_layers=5,                 |             hidden_layer_size=64,\n",
    " weight_initialization=\"random\" , |             hidden_activation='relu' ,  \n",
    " learning_rate=0.0001,            |             optimizer='rmsprop', \n",
    " loss_function='cross_entropy',   |             weight_decay=0.0005\n",
    " epochs = 5,                     |             batch_size = 16"
   ]
  },
  {
   "cell_type": "code",
   "execution_count": 27,
   "metadata": {},
   "outputs": [
    {
     "name": "stdout",
     "output_type": "stream",
     "text": [
      "Epoch 1/10, Loss: 0.2187, Accuracy: 93.48%\n",
      "Validation Loss: 0.2270, Validation Accuracy: 93.14%\n",
      "Epoch 2/10, Loss: 0.1593, Accuracy: 95.23%\n",
      "Validation Loss: 0.1722, Validation Accuracy: 94.85%\n",
      "Epoch 3/10, Loss: 0.1298, Accuracy: 96.14%\n",
      "Validation Loss: 0.1490, Validation Accuracy: 95.41%\n",
      "Epoch 4/10, Loss: 0.1116, Accuracy: 96.70%\n",
      "Validation Loss: 0.1348, Validation Accuracy: 95.91%\n",
      "Epoch 5/10, Loss: 0.0901, Accuracy: 97.36%\n",
      "Validation Loss: 0.1167, Validation Accuracy: 96.43%\n",
      "Epoch 6/10, Loss: 0.0798, Accuracy: 97.65%\n",
      "Validation Loss: 0.1132, Validation Accuracy: 96.46%\n",
      "Epoch 7/10, Loss: 0.0714, Accuracy: 97.86%\n",
      "Validation Loss: 0.1115, Validation Accuracy: 96.70%\n",
      "Epoch 8/10, Loss: 0.0642, Accuracy: 98.06%\n",
      "Validation Loss: 0.1054, Validation Accuracy: 96.83%\n",
      "Epoch 9/10, Loss: 0.0547, Accuracy: 98.41%\n",
      "Validation Loss: 0.0994, Validation Accuracy: 97.16%\n",
      "Epoch 10/10, Loss: 0.0568, Accuracy: 98.23%\n",
      "Validation Loss: 0.1091, Validation Accuracy: 96.83%\n"
     ]
    },
    {
     "data": {
      "text/html": [],
      "text/plain": [
       "<IPython.core.display.HTML object>"
      ]
     },
     "metadata": {},
     "output_type": "display_data"
    },
    {
     "data": {
      "text/html": [
       "<br>    <style><br>        .wandb-row {<br>            display: flex;<br>            flex-direction: row;<br>            flex-wrap: wrap;<br>            justify-content: flex-start;<br>            width: 100%;<br>        }<br>        .wandb-col {<br>            display: flex;<br>            flex-direction: column;<br>            flex-basis: 100%;<br>            flex: 1;<br>            padding: 10px;<br>        }<br>    </style><br><div class=\"wandb-row\"><div class=\"wandb-col\"><h3>Run history:</h3><br/><table class=\"wandb\"><tr><td>Train_Accuracy</td><td>▁▃▅▆▇▇▇███</td></tr><tr><td>Train_Loss</td><td>█▅▄▃▃▂▂▁▁▁</td></tr><tr><td>Val Accuracy</td><td>▁▄▅▆▇▇▇▇█▇</td></tr><tr><td>Val Loss</td><td>█▅▄▃▂▂▂▁▁▂</td></tr></table><br/></div><div class=\"wandb-col\"><h3>Run summary:</h3><br/><table class=\"wandb\"><tr><td>Train_Accuracy</td><td>98.235</td></tr><tr><td>Train_Loss</td><td>0.05684</td></tr><tr><td>Val Accuracy</td><td>96.83</td></tr><tr><td>Val Loss</td><td>0.1091</td></tr></table><br/></div></div>"
      ],
      "text/plain": [
       "<IPython.core.display.HTML object>"
      ]
     },
     "metadata": {},
     "output_type": "display_data"
    },
    {
     "data": {
      "text/html": [
       " View run <strong style=\"color:#cdcd00\">classic-valley-170</strong> at: <a href='https://wandb.ai/da24s021-indian-institute-of-technology-madras/DA6401_assignment1/runs/lg4aushw' target=\"_blank\">https://wandb.ai/da24s021-indian-institute-of-technology-madras/DA6401_assignment1/runs/lg4aushw</a><br> View project at: <a href='https://wandb.ai/da24s021-indian-institute-of-technology-madras/DA6401_assignment1' target=\"_blank\">https://wandb.ai/da24s021-indian-institute-of-technology-madras/DA6401_assignment1</a><br>Synced 5 W&B file(s), 0 media file(s), 0 artifact file(s) and 0 other file(s)"
      ],
      "text/plain": [
       "<IPython.core.display.HTML object>"
      ]
     },
     "metadata": {},
     "output_type": "display_data"
    },
    {
     "data": {
      "text/html": [
       "Find logs at: <code>.\\wandb\\run-20250317_040943-lg4aushw\\logs</code>"
      ],
      "text/plain": [
       "<IPython.core.display.HTML object>"
      ]
     },
     "metadata": {},
     "output_type": "display_data"
    }
   ],
   "source": [
    "nn = NeuralNetwork(28 * 28, [64, 64, 64, 64,64], 10,weight_initialization=\"random\" ,hidden_activation='relu' ,  learning_rate=0.0001, optimizer='rmsprop', loss_function='cross_entropy',weight_decay=0.0005)\n",
    "nn.train(train_images, train_labels, epochs=10, batch_size=16 , x_val=test_images, y_val=test_labels, wandb=run)\n",
    "run.finish()"
   ]
  },
  {
   "cell_type": "code",
   "execution_count": null,
   "metadata": {},
   "outputs": [],
   "source": []
  },
  {
   "cell_type": "code",
   "execution_count": null,
   "metadata": {},
   "outputs": [
    {
     "data": {
      "text/plain": [
       "array([0.09301743, 0.09728745, 0.10111826, 0.10010601, 0.10519973,\n",
       "       0.10813293, 0.09128547, 0.11670652, 0.10165429, 0.13087583])"
      ]
     },
     "execution_count": 11,
     "metadata": {},
     "output_type": "execute_result"
    }
   ],
   "source": [
    "nn.lit[0]"
   ]
  },
  {
   "cell_type": "code",
   "execution_count": 1,
   "metadata": {},
   "outputs": [],
   "source": [
    "layer_sizes = [28 * 28, 256, 128, 64, 10]"
   ]
  },
  {
   "cell_type": "code",
   "execution_count": null,
   "metadata": {},
   "outputs": [],
   "source": [
    "weights = [\n",
    "                np.random.uniform(\n",
    "                    low=-(np.sqrt(6) / np.sqrt(layer_sizes[i] + layer_sizes[i + 1])),\n",
    "                    high=(np.sqrt(6) / np.sqrt(layer_sizes[i] + layer_sizes[i + 1]))\n",
    "                )\n",
    "                for i in range(len(layer_sizes) - 1)\n",
    "            ]"
   ]
  },
  {
   "cell_type": "code",
   "execution_count": 7,
   "metadata": {},
   "outputs": [],
   "source": [
    "weights = [\n",
    "                np.random.randn(layer_sizes[i], layer_sizes[i + 1]) * 0.01\n",
    "                for i in range(len(layer_sizes) - 1)\n",
    "            ]"
   ]
  },
  {
   "cell_type": "code",
   "execution_count": 9,
   "metadata": {},
   "outputs": [
    {
     "data": {
      "text/plain": [
       "(784, 256)"
      ]
     },
     "execution_count": 9,
     "metadata": {},
     "output_type": "execute_result"
    }
   ],
   "source": [
    "weights[0].shape"
   ]
  },
  {
   "cell_type": "code",
   "execution_count": 19,
   "metadata": {},
   "outputs": [],
   "source": [
    "a = 2"
   ]
  },
  {
   "cell_type": "code",
   "execution_count": 20,
   "metadata": {},
   "outputs": [],
   "source": [
    "if a := 1:\n",
    "    f = 6\n",
    "else:\n",
    "    f = 7"
   ]
  },
  {
   "cell_type": "code",
   "execution_count": 21,
   "metadata": {},
   "outputs": [
    {
     "data": {
      "text/plain": [
       "6"
      ]
     },
     "execution_count": 21,
     "metadata": {},
     "output_type": "execute_result"
    }
   ],
   "source": [
    "f"
   ]
  },
  {
   "cell_type": "code",
   "execution_count": null,
   "metadata": {},
   "outputs": [],
   "source": []
  }
 ],
 "metadata": {
  "kernelspec": {
   "display_name": "Python 3",
   "language": "python",
   "name": "python3"
  },
  "language_info": {
   "codemirror_mode": {
    "name": "ipython",
    "version": 3
   },
   "file_extension": ".py",
   "mimetype": "text/x-python",
   "name": "python",
   "nbconvert_exporter": "python",
   "pygments_lexer": "ipython3",
   "version": "3.10.9"
  }
 },
 "nbformat": 4,
 "nbformat_minor": 2
}
